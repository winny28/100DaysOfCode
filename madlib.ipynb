{
 "cells": [
  {
   "cell_type": "code",
   "execution_count": 4,
   "metadata": {},
   "outputs": [
    {
     "name": "stdin",
     "output_type": "stream",
     "text": [
      "Enter a color:  Purple\n",
      "Enter a Plural Noun:  Garlic\n",
      "Enter the name of a Celebrity:  @mynameisalliyah on Twitter\n"
     ]
    },
    {
     "name": "stdout",
     "output_type": "stream",
     "text": [
      "Roses are Purple\n",
      "Garlic are blue\n",
      "I think @mynameisalliyah on Twitter Is pretty rad too\n",
      "\n"
     ]
    }
   ],
   "source": [
    "color = input(\"Enter a color: \")\n",
    "pluralNoun = input(\"Enter a Plural Noun: \")\n",
    "celeb = input(\"Enter the name of a Celebrity: \")\n",
    "\n",
    "print(\"Roses are \" + color)\n",
    "print(pluralNoun + \" are blue\")\n",
    "print(\"I think \" + celeb + \" Is pretty rad too\\n\")"
   ]
  },
  {
   "cell_type": "code",
   "execution_count": null,
   "metadata": {},
   "outputs": [],
   "source": []
  }
 ],
 "metadata": {
  "kernelspec": {
   "display_name": "Python 3",
   "language": "python",
   "name": "python3"
  },
  "language_info": {
   "codemirror_mode": {
    "name": "ipython",
    "version": 3
   },
   "file_extension": ".py",
   "mimetype": "text/x-python",
   "name": "python",
   "nbconvert_exporter": "python",
   "pygments_lexer": "ipython3",
   "version": "3.7.8"
  }
 },
 "nbformat": 4,
 "nbformat_minor": 4
}
